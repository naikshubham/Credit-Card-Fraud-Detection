{
 "cells": [
  {
   "cell_type": "code",
   "execution_count": 5,
   "metadata": {
    "collapsed": true,
    "scrolled": true
   },
   "outputs": [],
   "source": [
    "import pandas as pd\n",
    "import cmath\n",
    "import numpy as np\n",
    "cc = pd.read_csv('creditcard.csv')"
   ]
  },
  {
   "cell_type": "code",
   "execution_count": 2,
   "metadata": {
    "collapsed": true,
    "scrolled": true
   },
   "outputs": [],
   "source": [
    "#Create Numpy array f_arr of all the transcations\n",
    "f_arr =np.array(cc)"
   ]
  },
  {
   "cell_type": "code",
   "execution_count": 7,
   "metadata": {
    "scrolled": false
   },
   "outputs": [
    {
     "name": "stdout",
     "output_type": "stream",
     "text": [
      "Enter a trancation index value corresponding to which you need to find similar trancations :541\n",
      "      Class  Index            Similarity\n",
      "541       1    541                   -0j\n",
      "460       0    460  (0.0166922986392-0j)\n",
      "8296      1   8296  (0.0216110277492-0j)\n",
      "8615      1   8615  (0.0217160642217-0j)\n",
      "9035      1   9035   (0.021940381583-0j)\n",
      "8335      1   8335  (0.0219718650971-0j)\n",
      "9252      1   9252  (0.0220768521941-0j)\n",
      "9487      1   9487  (0.0222108920308-0j)\n",
      "9509      1   9509  (0.0222138461766-0j)\n",
      "9179      1   9179  (0.0223664265243-0j)\n",
      "--------------------\n",
      "\n",
      "Given transcation id : 541 Class: 1\n",
      "--------------------------------------\n",
      " Similar transcations\n",
      " ---------------------------\n",
      "\n",
      "Class: 1 Similarity =  -0j #trancation id =  541\n",
      "Class: 0 Similarity =  (0.0166922986392-0j) #trancation id =  460\n",
      "Class: 1 Similarity =  (0.0216110277492-0j) #trancation id =  8296\n",
      "Class: 1 Similarity =  (0.0217160642217-0j) #trancation id =  8615\n",
      "Class: 1 Similarity =  (0.021940381583-0j) #trancation id =  9035\n",
      "Class: 1 Similarity =  (0.0219718650971-0j) #trancation id =  8335\n",
      "Class: 1 Similarity =  (0.0220768521941-0j) #trancation id =  9252\n",
      "Class: 1 Similarity =  (0.0222108920308-0j) #trancation id =  9487\n",
      "Class: 1 Similarity =  (0.0222138461766-0j) #trancation id =  9509\n",
      "Class: 1 Similarity =  (0.0223664265243-0j) #trancation id =  9179\n"
     ]
    }
   ],
   "source": [
    "# Enter the transcation index value corresponding to which you need to find similar transcations #n\n",
    "n = int(input(\"Enter a trancation index value corresponding to which you need to find similar trancations :\"))\n",
    "l_data = []  #array to store similarity values\n",
    "l_index=[]   #array to store indexes of similarity values\n",
    "l_class=[]   #array to store class values \n",
    "for i in range(0,len(f_arr)):\n",
    "        numerator = np.dot(f_arr[n],f_arr[i])     #computing dot product #numertor dot product (vi, vj)\n",
    "        sqa= np.square(f_arr[n])                  #computing square to find length(vi)\n",
    "        sqb= np.square(f_arr[i])                  #computing square to find length(vj)\n",
    "        sum_a=np.sum(sqa)                         #sum up the squared values\n",
    "        sum_b=np.sum(sqb)                         #sum up the squared values\n",
    "        da = np.sqrt(sum_a)                       #take sqrt of the sum of squared values #length(vi)\n",
    "        db = np.sqrt(sum_b)                       #take sqrt of the sum of squared values #length(vj)\n",
    "        denominator = da * db                     #denominator length(vi) * length(vj)\n",
    "        value = numerator/denominator             #similarity(i,j) value\n",
    "        fvalue = cmath.acos(value)                 #taking inverse cosine\n",
    "        l_data.append(fvalue)                     #appending similarity values to l_data\n",
    "        l_index.append(i)                         #appending index values to l_index\n",
    "        l_class.append(cc['Class'][i])            #appending class values to l_class\n",
    "\n",
    "f_res = pd.DataFrame({'Similarity':l_data,'Index':l_index,'Class':l_class})  #create DF with columns 'Similarity','Index','Class'\n",
    "f_sorted = f_res.sort_values('Similarity',axis =0,ascending=True)            #Sort the DF to get top 10 transactions in the dataset which have the lowest similarity(i,j).\n",
    "print(f_sorted.head(10))                                                     #top 10 lowest similar values  \n",
    "print('--------------------\\n')\n",
    "print('Given transcation id :',n,'Class:',f_res['Class'][n])\n",
    "print('--------------------------------------\\n Similar transcations\\n ---------------------------\\n')\n",
    "for i in range(0,10):\n",
    "     print('Class:',f_res['Class'][f_sorted.index[i]],'Similarity = ',f_sorted['Similarity'][f_sorted.index[i]] ,'#trancation id = ',f_sorted.index[i])"
   ]
  }
 ],
 "metadata": {
  "kernelspec": {
   "display_name": "Python 3",
   "language": "python",
   "name": "python3"
  },
  "language_info": {
   "codemirror_mode": {
    "name": "ipython",
    "version": 3
   },
   "file_extension": ".py",
   "mimetype": "text/x-python",
   "name": "python",
   "nbconvert_exporter": "python",
   "pygments_lexer": "ipython3",
   "version": "3.6.3"
  }
 },
 "nbformat": 4,
 "nbformat_minor": 2
}
